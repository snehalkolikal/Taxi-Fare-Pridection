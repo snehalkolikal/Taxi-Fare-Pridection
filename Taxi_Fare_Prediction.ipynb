{
 "cells": [
  {
   "cell_type": "code",
   "execution_count": 1,
   "id": "liquid-mozambique",
   "metadata": {},
   "outputs": [],
   "source": [
    "import numpy as np # linear algebra\n",
    "import pandas as pd # data processing, CSV file I/O (e.g. pd.read_csv)\n",
    "import os\n",
    "import matplotlib\n",
    "import matplotlib.pyplot as plt\n",
    "import seaborn as sns\n",
    "import statsmodels.api as sm\n",
    "from sklearn import datasets,linear_model\n",
    "from sklearn.model_selection import train_test_split\n",
    "from sklearn.metrics import mean_squared_error"
   ]
  },
  {
   "cell_type": "code",
   "execution_count": 2,
   "id": "interim-effort",
   "metadata": {},
   "outputs": [
    {
     "name": "stderr",
     "output_type": "stream",
     "text": [
      "C:\\ProgramData\\Anaconda3\\lib\\site-packages\\IPython\\core\\interactiveshell.py:3165: DtypeWarning: Columns (3) have mixed types.Specify dtype option on import or set low_memory=False.\n",
      "  has_raised = await self.run_ast_nodes(code_ast.body, cell_name,\n"
     ]
    },
    {
     "data": {
      "text/html": [
       "<div>\n",
       "<style scoped>\n",
       "    .dataframe tbody tr th:only-of-type {\n",
       "        vertical-align: middle;\n",
       "    }\n",
       "\n",
       "    .dataframe tbody tr th {\n",
       "        vertical-align: top;\n",
       "    }\n",
       "\n",
       "    .dataframe thead th {\n",
       "        text-align: right;\n",
       "    }\n",
       "</style>\n",
       "<table border=\"1\" class=\"dataframe\">\n",
       "  <thead>\n",
       "    <tr style=\"text-align: right;\">\n",
       "      <th></th>\n",
       "      <th>VendorID</th>\n",
       "      <th>lpep_pickup_datetime</th>\n",
       "      <th>lpep_dropoff_datetime</th>\n",
       "      <th>store_and_fwd_flag</th>\n",
       "      <th>RatecodeID</th>\n",
       "      <th>PULocationID</th>\n",
       "      <th>DOLocationID</th>\n",
       "      <th>passenger_count</th>\n",
       "      <th>trip_distance</th>\n",
       "      <th>fare_amount</th>\n",
       "      <th>extra</th>\n",
       "      <th>mta_tax</th>\n",
       "      <th>tip_amount</th>\n",
       "      <th>tolls_amount</th>\n",
       "      <th>ehail_fee</th>\n",
       "      <th>improvement_surcharge</th>\n",
       "      <th>total_amount</th>\n",
       "      <th>payment_type</th>\n",
       "      <th>trip_type</th>\n",
       "      <th>congestion_surcharge</th>\n",
       "    </tr>\n",
       "  </thead>\n",
       "  <tbody>\n",
       "    <tr>\n",
       "      <th>0</th>\n",
       "      <td>2.0</td>\n",
       "      <td>12/18/2019 03:52:30 PM</td>\n",
       "      <td>12/18/2019 03:54:39 PM</td>\n",
       "      <td>N</td>\n",
       "      <td>1.0</td>\n",
       "      <td>264</td>\n",
       "      <td>264</td>\n",
       "      <td>5.0</td>\n",
       "      <td>0.00</td>\n",
       "      <td>3.5</td>\n",
       "      <td>0.50</td>\n",
       "      <td>0.5</td>\n",
       "      <td>0.01</td>\n",
       "      <td>0.0</td>\n",
       "      <td>NaN</td>\n",
       "      <td>0.3</td>\n",
       "      <td>4.81</td>\n",
       "      <td>1.0</td>\n",
       "      <td>1.0</td>\n",
       "      <td>0.00</td>\n",
       "    </tr>\n",
       "    <tr>\n",
       "      <th>1</th>\n",
       "      <td>2.0</td>\n",
       "      <td>01/01/2020 00:45</td>\n",
       "      <td>01/01/2020 00:56</td>\n",
       "      <td>N</td>\n",
       "      <td>5.0</td>\n",
       "      <td>66</td>\n",
       "      <td>65</td>\n",
       "      <td>2.0</td>\n",
       "      <td>1.28</td>\n",
       "      <td>20.0</td>\n",
       "      <td>0.00</td>\n",
       "      <td>0.0</td>\n",
       "      <td>4.06</td>\n",
       "      <td>0.0</td>\n",
       "      <td>NaN</td>\n",
       "      <td>0.3</td>\n",
       "      <td>24.36</td>\n",
       "      <td>1.0</td>\n",
       "      <td>2.0</td>\n",
       "      <td>0.00</td>\n",
       "    </tr>\n",
       "    <tr>\n",
       "      <th>2</th>\n",
       "      <td>2.0</td>\n",
       "      <td>01/01/2020 00:41</td>\n",
       "      <td>01/01/2020 00:52</td>\n",
       "      <td>N</td>\n",
       "      <td>1.0</td>\n",
       "      <td>181</td>\n",
       "      <td>228</td>\n",
       "      <td>1.0</td>\n",
       "      <td>2.47</td>\n",
       "      <td>10.5</td>\n",
       "      <td>0.50</td>\n",
       "      <td>0.5</td>\n",
       "      <td>3.54</td>\n",
       "      <td>0.0</td>\n",
       "      <td>NaN</td>\n",
       "      <td>0.3</td>\n",
       "      <td>15.34</td>\n",
       "      <td>1.0</td>\n",
       "      <td>1.0</td>\n",
       "      <td>0.00</td>\n",
       "    </tr>\n",
       "    <tr>\n",
       "      <th>3</th>\n",
       "      <td>1.0</td>\n",
       "      <td>01/01/2020 00:52</td>\n",
       "      <td>01/01/2020 01:14</td>\n",
       "      <td>N</td>\n",
       "      <td>1.0</td>\n",
       "      <td>129</td>\n",
       "      <td>263</td>\n",
       "      <td>2.0</td>\n",
       "      <td>6.30</td>\n",
       "      <td>21.0</td>\n",
       "      <td>3.25</td>\n",
       "      <td>0.5</td>\n",
       "      <td>0.00</td>\n",
       "      <td>0.0</td>\n",
       "      <td>NaN</td>\n",
       "      <td>0.3</td>\n",
       "      <td>25.05</td>\n",
       "      <td>2.0</td>\n",
       "      <td>1.0</td>\n",
       "      <td>2.75</td>\n",
       "    </tr>\n",
       "    <tr>\n",
       "      <th>4</th>\n",
       "      <td>1.0</td>\n",
       "      <td>01/01/2020 00:19</td>\n",
       "      <td>01/01/2020 00:30</td>\n",
       "      <td>N</td>\n",
       "      <td>1.0</td>\n",
       "      <td>210</td>\n",
       "      <td>150</td>\n",
       "      <td>1.0</td>\n",
       "      <td>2.30</td>\n",
       "      <td>10.0</td>\n",
       "      <td>0.50</td>\n",
       "      <td>0.5</td>\n",
       "      <td>0.00</td>\n",
       "      <td>0.0</td>\n",
       "      <td>NaN</td>\n",
       "      <td>0.3</td>\n",
       "      <td>11.30</td>\n",
       "      <td>1.0</td>\n",
       "      <td>1.0</td>\n",
       "      <td>0.00</td>\n",
       "    </tr>\n",
       "  </tbody>\n",
       "</table>\n",
       "</div>"
      ],
      "text/plain": [
       "   VendorID    lpep_pickup_datetime   lpep_dropoff_datetime  \\\n",
       "0       2.0  12/18/2019 03:52:30 PM  12/18/2019 03:54:39 PM   \n",
       "1       2.0        01/01/2020 00:45        01/01/2020 00:56   \n",
       "2       2.0        01/01/2020 00:41        01/01/2020 00:52   \n",
       "3       1.0        01/01/2020 00:52        01/01/2020 01:14   \n",
       "4       1.0        01/01/2020 00:19        01/01/2020 00:30   \n",
       "\n",
       "  store_and_fwd_flag  RatecodeID  PULocationID  DOLocationID  passenger_count  \\\n",
       "0                  N         1.0           264           264              5.0   \n",
       "1                  N         5.0            66            65              2.0   \n",
       "2                  N         1.0           181           228              1.0   \n",
       "3                  N         1.0           129           263              2.0   \n",
       "4                  N         1.0           210           150              1.0   \n",
       "\n",
       "   trip_distance  fare_amount  extra  mta_tax  tip_amount  tolls_amount  \\\n",
       "0           0.00          3.5   0.50      0.5        0.01           0.0   \n",
       "1           1.28         20.0   0.00      0.0        4.06           0.0   \n",
       "2           2.47         10.5   0.50      0.5        3.54           0.0   \n",
       "3           6.30         21.0   3.25      0.5        0.00           0.0   \n",
       "4           2.30         10.0   0.50      0.5        0.00           0.0   \n",
       "\n",
       "   ehail_fee  improvement_surcharge  total_amount  payment_type  trip_type  \\\n",
       "0        NaN                    0.3          4.81           1.0        1.0   \n",
       "1        NaN                    0.3         24.36           1.0        2.0   \n",
       "2        NaN                    0.3         15.34           1.0        1.0   \n",
       "3        NaN                    0.3         25.05           2.0        1.0   \n",
       "4        NaN                    0.3         11.30           1.0        1.0   \n",
       "\n",
       "   congestion_surcharge  \n",
       "0                  0.00  \n",
       "1                  0.00  \n",
       "2                  0.00  \n",
       "3                  2.75  \n",
       "4                  0.00  "
      ]
     },
     "execution_count": 2,
     "metadata": {},
     "output_type": "execute_result"
    }
   ],
   "source": [
    "#train = pd.read_csv(\"trip_train.csv\")\n",
    "train = pd.read_csv(\"trip_train.csv\")\n",
    "train.head()"
   ]
  },
  {
   "cell_type": "markdown",
   "id": "southeast-serial",
   "metadata": {},
   "source": [
    "### Feature selection"
   ]
  },
  {
   "cell_type": "code",
   "execution_count": 3,
   "id": "surface-captain",
   "metadata": {},
   "outputs": [
    {
     "data": {
      "text/html": [
       "<div>\n",
       "<style scoped>\n",
       "    .dataframe tbody tr th:only-of-type {\n",
       "        vertical-align: middle;\n",
       "    }\n",
       "\n",
       "    .dataframe tbody tr th {\n",
       "        vertical-align: top;\n",
       "    }\n",
       "\n",
       "    .dataframe thead th {\n",
       "        text-align: right;\n",
       "    }\n",
       "</style>\n",
       "<table border=\"1\" class=\"dataframe\">\n",
       "  <thead>\n",
       "    <tr style=\"text-align: right;\">\n",
       "      <th></th>\n",
       "      <th>VendorID</th>\n",
       "      <th>lpep_pickup_datetime</th>\n",
       "      <th>lpep_dropoff_datetime</th>\n",
       "      <th>store_and_fwd_flag</th>\n",
       "      <th>RatecodeID</th>\n",
       "      <th>PULocationID</th>\n",
       "      <th>DOLocationID</th>\n",
       "      <th>passenger_count</th>\n",
       "      <th>trip_distance</th>\n",
       "      <th>total_amount</th>\n",
       "      <th>trip_type</th>\n",
       "    </tr>\n",
       "  </thead>\n",
       "  <tbody>\n",
       "    <tr>\n",
       "      <th>0</th>\n",
       "      <td>2.0</td>\n",
       "      <td>12/18/2019 03:52:30 PM</td>\n",
       "      <td>12/18/2019 03:54:39 PM</td>\n",
       "      <td>N</td>\n",
       "      <td>1.0</td>\n",
       "      <td>264</td>\n",
       "      <td>264</td>\n",
       "      <td>5.0</td>\n",
       "      <td>0.00</td>\n",
       "      <td>4.81</td>\n",
       "      <td>1.0</td>\n",
       "    </tr>\n",
       "    <tr>\n",
       "      <th>1</th>\n",
       "      <td>2.0</td>\n",
       "      <td>01/01/2020 00:45</td>\n",
       "      <td>01/01/2020 00:56</td>\n",
       "      <td>N</td>\n",
       "      <td>5.0</td>\n",
       "      <td>66</td>\n",
       "      <td>65</td>\n",
       "      <td>2.0</td>\n",
       "      <td>1.28</td>\n",
       "      <td>24.36</td>\n",
       "      <td>2.0</td>\n",
       "    </tr>\n",
       "    <tr>\n",
       "      <th>2</th>\n",
       "      <td>2.0</td>\n",
       "      <td>01/01/2020 00:41</td>\n",
       "      <td>01/01/2020 00:52</td>\n",
       "      <td>N</td>\n",
       "      <td>1.0</td>\n",
       "      <td>181</td>\n",
       "      <td>228</td>\n",
       "      <td>1.0</td>\n",
       "      <td>2.47</td>\n",
       "      <td>15.34</td>\n",
       "      <td>1.0</td>\n",
       "    </tr>\n",
       "    <tr>\n",
       "      <th>3</th>\n",
       "      <td>1.0</td>\n",
       "      <td>01/01/2020 00:52</td>\n",
       "      <td>01/01/2020 01:14</td>\n",
       "      <td>N</td>\n",
       "      <td>1.0</td>\n",
       "      <td>129</td>\n",
       "      <td>263</td>\n",
       "      <td>2.0</td>\n",
       "      <td>6.30</td>\n",
       "      <td>25.05</td>\n",
       "      <td>1.0</td>\n",
       "    </tr>\n",
       "    <tr>\n",
       "      <th>4</th>\n",
       "      <td>1.0</td>\n",
       "      <td>01/01/2020 00:19</td>\n",
       "      <td>01/01/2020 00:30</td>\n",
       "      <td>N</td>\n",
       "      <td>1.0</td>\n",
       "      <td>210</td>\n",
       "      <td>150</td>\n",
       "      <td>1.0</td>\n",
       "      <td>2.30</td>\n",
       "      <td>11.30</td>\n",
       "      <td>1.0</td>\n",
       "    </tr>\n",
       "  </tbody>\n",
       "</table>\n",
       "</div>"
      ],
      "text/plain": [
       "   VendorID    lpep_pickup_datetime   lpep_dropoff_datetime  \\\n",
       "0       2.0  12/18/2019 03:52:30 PM  12/18/2019 03:54:39 PM   \n",
       "1       2.0        01/01/2020 00:45        01/01/2020 00:56   \n",
       "2       2.0        01/01/2020 00:41        01/01/2020 00:52   \n",
       "3       1.0        01/01/2020 00:52        01/01/2020 01:14   \n",
       "4       1.0        01/01/2020 00:19        01/01/2020 00:30   \n",
       "\n",
       "  store_and_fwd_flag  RatecodeID  PULocationID  DOLocationID  passenger_count  \\\n",
       "0                  N         1.0           264           264              5.0   \n",
       "1                  N         5.0            66            65              2.0   \n",
       "2                  N         1.0           181           228              1.0   \n",
       "3                  N         1.0           129           263              2.0   \n",
       "4                  N         1.0           210           150              1.0   \n",
       "\n",
       "   trip_distance  total_amount  trip_type  \n",
       "0           0.00          4.81        1.0  \n",
       "1           1.28         24.36        2.0  \n",
       "2           2.47         15.34        1.0  \n",
       "3           6.30         25.05        1.0  \n",
       "4           2.30         11.30        1.0  "
      ]
     },
     "execution_count": 3,
     "metadata": {},
     "output_type": "execute_result"
    }
   ],
   "source": [
    "# First of all, there are some features like fare_amount,extra,mta_tax,tip_amount etc. \n",
    "#addition of all these columns is a final column named total_amount.\n",
    "# so we need to manually remove those irrelevant columns\n",
    "#payment_type is also a post fare process, so we don't need it\n",
    "train = train.drop(['fare_amount','extra','mta_tax','tip_amount','tolls_amount','ehail_fee','improvement_surcharge','congestion_surcharge','payment_type'], axis = 1)\n",
    "train.head()"
   ]
  },
  {
   "cell_type": "code",
   "execution_count": 4,
   "id": "exempt-season",
   "metadata": {},
   "outputs": [],
   "source": [
    "#The filtering here is done using correlation matrix and it is most commonly done using Pearson correlation"
   ]
  },
  {
   "cell_type": "code",
   "execution_count": 56,
   "id": "foreign-satin",
   "metadata": {
    "scrolled": true
   },
   "outputs": [
    {
     "data": {
      "image/png": "[encoded data removed]",
      "text/plain": [
       "<Figure size 864x720 with 2 Axes>"
      ]
     },
     "metadata": {
      "needs_background": "light"
     },
     "output_type": "display_data"
    }
   ],
   "source": [
    "#Using Pearson Correlation\n",
    "plt.figure(figsize=(12,10))\n",
    "cor = train.corr()\n",
    "sns.heatmap(cor, annot=True, cmap=plt.cm.Reds)\n",
    "plt.show()"
   ]
  },
  {
   "cell_type": "code",
   "execution_count": 5,
   "id": "residential-console",
   "metadata": {},
   "outputs": [
    {
     "data": {
      "text/plain": [
       "Index(['VendorID', 'lpep_pickup_datetime', 'lpep_dropoff_datetime',\n",
       "       'store_and_fwd_flag', 'RatecodeID', 'PULocationID', 'DOLocationID',\n",
       "       'passenger_count', 'trip_distance', 'total_amount', 'trip_type'],\n",
       "      dtype='object')"
      ]
     },
     "execution_count": 5,
     "metadata": {},
     "output_type": "execute_result"
    }
   ],
   "source": [
    "train.columns"
   ]
  },
  {
   "cell_type": "code",
   "execution_count": 6,
   "id": "decent-spelling",
   "metadata": {},
   "outputs": [
    {
     "data": {
      "text/plain": [
       "VendorID           0.014979\n",
       "RatecodeID         0.103748\n",
       "PULocationID       0.105281\n",
       "DOLocationID       0.094026\n",
       "passenger_count    0.006788\n",
       "trip_distance      0.013413\n",
       "total_amount       1.000000\n",
       "trip_type          0.069422\n",
       "Name: total_amount, dtype: float64"
      ]
     },
     "execution_count": 6,
     "metadata": {},
     "output_type": "execute_result"
    }
   ],
   "source": [
    "#Correlation with output variable\n",
    "cor_target = abs(cor[\"total_amount\"])#Selecting highly correlated features\n",
    "relevant_features = cor_target[cor_target>0]\n",
    "relevant_features"
   ]
  },
  {
   "cell_type": "code",
   "execution_count": 7,
   "id": "processed-maintenance",
   "metadata": {},
   "outputs": [
    {
     "data": {
      "text/plain": [
       "array(['VendorID', 'RatecodeID', 'PULocationID', 'DOLocationID',\n",
       "       'passenger_count', 'trip_distance', 'total_amount', 'trip_type',\n",
       "       'lpep_pickup_datetime', 'lpep_dropoff_datetime'], dtype=object)"
      ]
     },
     "execution_count": 7,
     "metadata": {},
     "output_type": "execute_result"
    }
   ],
   "source": [
    "#correlation function ignores the values which are not numbers, \n",
    "#hence manually adding datetime columns to relevant_features\n",
    "relevant_features = relevant_features.keys().to_numpy()\n",
    "relevant_features = np.append(relevant_features,'lpep_pickup_datetime')\n",
    "relevant_features = np.append(relevant_features,'lpep_dropoff_datetime')\n",
    "relevant_features"
   ]
  },
  {
   "cell_type": "code",
   "execution_count": 8,
   "id": "republican-doctrine",
   "metadata": {},
   "outputs": [
    {
     "data": {
      "text/html": [
       "<div>\n",
       "<style scoped>\n",
       "    .dataframe tbody tr th:only-of-type {\n",
       "        vertical-align: middle;\n",
       "    }\n",
       "\n",
       "    .dataframe tbody tr th {\n",
       "        vertical-align: top;\n",
       "    }\n",
       "\n",
       "    .dataframe thead th {\n",
       "        text-align: right;\n",
       "    }\n",
       "</style>\n",
       "<table border=\"1\" class=\"dataframe\">\n",
       "  <thead>\n",
       "    <tr style=\"text-align: right;\">\n",
       "      <th></th>\n",
       "      <th>VendorID</th>\n",
       "      <th>RatecodeID</th>\n",
       "      <th>PULocationID</th>\n",
       "      <th>DOLocationID</th>\n",
       "      <th>passenger_count</th>\n",
       "      <th>trip_distance</th>\n",
       "      <th>total_amount</th>\n",
       "      <th>trip_type</th>\n",
       "      <th>lpep_pickup_datetime</th>\n",
       "      <th>lpep_dropoff_datetime</th>\n",
       "    </tr>\n",
       "  </thead>\n",
       "  <tbody>\n",
       "    <tr>\n",
       "      <th>0</th>\n",
       "      <td>2.0</td>\n",
       "      <td>1.0</td>\n",
       "      <td>264</td>\n",
       "      <td>264</td>\n",
       "      <td>5.0</td>\n",
       "      <td>0.00</td>\n",
       "      <td>4.81</td>\n",
       "      <td>1.0</td>\n",
       "      <td>12/18/2019 03:52:30 PM</td>\n",
       "      <td>12/18/2019 03:54:39 PM</td>\n",
       "    </tr>\n",
       "    <tr>\n",
       "      <th>1</th>\n",
       "      <td>2.0</td>\n",
       "      <td>5.0</td>\n",
       "      <td>66</td>\n",
       "      <td>65</td>\n",
       "      <td>2.0</td>\n",
       "      <td>1.28</td>\n",
       "      <td>24.36</td>\n",
       "      <td>2.0</td>\n",
       "      <td>01/01/2020 00:45</td>\n",
       "      <td>01/01/2020 00:56</td>\n",
       "    </tr>\n",
       "    <tr>\n",
       "      <th>2</th>\n",
       "      <td>2.0</td>\n",
       "      <td>1.0</td>\n",
       "      <td>181</td>\n",
       "      <td>228</td>\n",
       "      <td>1.0</td>\n",
       "      <td>2.47</td>\n",
       "      <td>15.34</td>\n",
       "      <td>1.0</td>\n",
       "      <td>01/01/2020 00:41</td>\n",
       "      <td>01/01/2020 00:52</td>\n",
       "    </tr>\n",
       "    <tr>\n",
       "      <th>3</th>\n",
       "      <td>1.0</td>\n",
       "      <td>1.0</td>\n",
       "      <td>129</td>\n",
       "      <td>263</td>\n",
       "      <td>2.0</td>\n",
       "      <td>6.30</td>\n",
       "      <td>25.05</td>\n",
       "      <td>1.0</td>\n",
       "      <td>01/01/2020 00:52</td>\n",
       "      <td>01/01/2020 01:14</td>\n",
       "    </tr>\n",
       "    <tr>\n",
       "      <th>4</th>\n",
       "      <td>1.0</td>\n",
       "      <td>1.0</td>\n",
       "      <td>210</td>\n",
       "      <td>150</td>\n",
       "      <td>1.0</td>\n",
       "      <td>2.30</td>\n",
       "      <td>11.30</td>\n",
       "      <td>1.0</td>\n",
       "      <td>01/01/2020 00:19</td>\n",
       "      <td>01/01/2020 00:30</td>\n",
       "    </tr>\n",
       "  </tbody>\n",
       "</table>\n",
       "</div>"
      ],
      "text/plain": [
       "   VendorID  RatecodeID  PULocationID  DOLocationID  passenger_count  \\\n",
       "0       2.0         1.0           264           264              5.0   \n",
       "1       2.0         5.0            66            65              2.0   \n",
       "2       2.0         1.0           181           228              1.0   \n",
       "3       1.0         1.0           129           263              2.0   \n",
       "4       1.0         1.0           210           150              1.0   \n",
       "\n",
       "   trip_distance  total_amount  trip_type    lpep_pickup_datetime  \\\n",
       "0           0.00          4.81        1.0  12/18/2019 03:52:30 PM   \n",
       "1           1.28         24.36        2.0        01/01/2020 00:45   \n",
       "2           2.47         15.34        1.0        01/01/2020 00:41   \n",
       "3           6.30         25.05        1.0        01/01/2020 00:52   \n",
       "4           2.30         11.30        1.0        01/01/2020 00:19   \n",
       "\n",
       "    lpep_dropoff_datetime  \n",
       "0  12/18/2019 03:54:39 PM  \n",
       "1        01/01/2020 00:56  \n",
       "2        01/01/2020 00:52  \n",
       "3        01/01/2020 01:14  \n",
       "4        01/01/2020 00:30  "
      ]
     },
     "execution_count": 8,
     "metadata": {},
     "output_type": "execute_result"
    }
   ],
   "source": [
    "train = train[relevant_features]\n",
    "train.head()"
   ]
  },
  {
   "cell_type": "markdown",
   "id": "psychological-briefing",
   "metadata": {},
   "source": [
    "## Data Preprocessing"
   ]
  },
  {
   "cell_type": "code",
   "execution_count": 9,
   "id": "experimental-postcard",
   "metadata": {},
   "outputs": [
    {
     "data": {
      "text/plain": [
       "(1048575, 10)"
      ]
     },
     "execution_count": 9,
     "metadata": {},
     "output_type": "execute_result"
    }
   ],
   "source": [
    "train.shape"
   ]
  },
  {
   "cell_type": "code",
   "execution_count": 10,
   "id": "serious-springer",
   "metadata": {},
   "outputs": [],
   "source": [
    "train.dropna(inplace=True)"
   ]
  },
  {
   "cell_type": "code",
   "execution_count": 11,
   "id": "copyrighted-label",
   "metadata": {},
   "outputs": [
    {
     "data": {
      "text/plain": [
       "(825742, 10)"
      ]
     },
     "execution_count": 11,
     "metadata": {},
     "output_type": "execute_result"
    }
   ],
   "source": [
    "train.shape"
   ]
  },
  {
   "cell_type": "code",
   "execution_count": 12,
   "id": "comprehensive-anatomy",
   "metadata": {},
   "outputs": [],
   "source": [
    "#convert pickup & dropoff time to DateTime format\n",
    "train[\"lpep_pickup_datetime\"] = pd.to_datetime(train['lpep_pickup_datetime'], unit='ns')\n",
    "train[\"lpep_dropoff_datetime\"] = pd.to_datetime(train['lpep_dropoff_datetime'], unit='ns')"
   ]
  },
  {
   "cell_type": "code",
   "execution_count": 13,
   "id": "curious-tension",
   "metadata": {},
   "outputs": [
    {
     "data": {
      "text/plain": [
       "0         0 days 00:02:09\n",
       "1         0 days 00:11:00\n",
       "2         0 days 00:11:00\n",
       "3         0 days 00:22:00\n",
       "4         0 days 00:11:00\n",
       "                ...      \n",
       "1022861   0 days 00:05:14\n",
       "1022862   0 days 00:22:47\n",
       "1022863   0 days 00:07:50\n",
       "1022864   0 days 00:03:20\n",
       "1022865   0 days 00:17:41\n",
       "Name: travel_time, Length: 825742, dtype: timedelta64[ns]"
      ]
     },
     "execution_count": 13,
     "metadata": {},
     "output_type": "execute_result"
    }
   ],
   "source": [
    "train['travel_time'] = train[\"lpep_dropoff_datetime\"] - train[\"lpep_pickup_datetime\"]\n",
    "train['travel_time']"
   ]
  },
  {
   "cell_type": "code",
   "execution_count": 14,
   "id": "heard-ceremony",
   "metadata": {},
   "outputs": [],
   "source": [
    "def toMinutes(x):\n",
    "    minutes = x.total_seconds() / 60\n",
    "    return minutes"
   ]
  },
  {
   "cell_type": "code",
   "execution_count": 15,
   "id": "pharmaceutical-antenna",
   "metadata": {},
   "outputs": [
    {
     "data": {
      "text/plain": [
       "0           2.150000\n",
       "1          11.000000\n",
       "2          11.000000\n",
       "3          22.000000\n",
       "4          11.000000\n",
       "             ...    \n",
       "1022861     5.233333\n",
       "1022862    22.783333\n",
       "1022863     7.833333\n",
       "1022864     3.333333\n",
       "1022865    17.683333\n",
       "Name: travel_time, Length: 825742, dtype: float64"
      ]
     },
     "execution_count": 15,
     "metadata": {},
     "output_type": "execute_result"
    }
   ],
   "source": [
    "train['travel_time'] = train['travel_time'].apply(lambda x: toMinutes(x))\n",
    "#minutes = a.total_seconds() / 60\n",
    "train['travel_time']"
   ]
  },
  {
   "cell_type": "code",
   "execution_count": 16,
   "id": "greenhouse-seattle",
   "metadata": {},
   "outputs": [
    {
     "data": {
      "text/plain": [
       "0          2\n",
       "1          2\n",
       "2          2\n",
       "3          2\n",
       "4          2\n",
       "          ..\n",
       "1022861    1\n",
       "1022862    1\n",
       "1022863    1\n",
       "1022864    1\n",
       "1022865    1\n",
       "Name: travel_weekday, Length: 825742, dtype: int64"
      ]
     },
     "execution_count": 16,
     "metadata": {},
     "output_type": "execute_result"
    }
   ],
   "source": [
    "#train[\"lpep_dropoff_datetime\"].today().weekday()\n",
    "train['travel_weekday'] = train['lpep_dropoff_datetime'].apply(lambda x: x.weekday())\n",
    "train['travel_weekday']"
   ]
  },
  {
   "cell_type": "code",
   "execution_count": 17,
   "id": "lesser-portal",
   "metadata": {},
   "outputs": [
    {
     "data": {
      "text/plain": [
       "array([2, 1, 3, 4, 5, 0, 6], dtype=int64)"
      ]
     },
     "execution_count": 17,
     "metadata": {},
     "output_type": "execute_result"
    }
   ],
   "source": [
    "train['travel_weekday'].unique()"
   ]
  },
  {
   "cell_type": "code",
   "execution_count": 18,
   "id": "modular-planning",
   "metadata": {},
   "outputs": [
    {
     "data": {
      "text/plain": [
       "0          15\n",
       "1           0\n",
       "2           0\n",
       "3           1\n",
       "4           0\n",
       "           ..\n",
       "1022861    23\n",
       "1022862    23\n",
       "1022863    23\n",
       "1022864    23\n",
       "1022865    23\n",
       "Name: travel_hour, Length: 825742, dtype: int64"
      ]
     },
     "execution_count": 18,
     "metadata": {},
     "output_type": "execute_result"
    }
   ],
   "source": [
    "train['travel_hour'] = train['lpep_dropoff_datetime'].apply(lambda x: x.hour)\n",
    "train['travel_hour']"
   ]
  },
  {
   "cell_type": "code",
   "execution_count": 19,
   "id": "patient-snowboard",
   "metadata": {},
   "outputs": [
    {
     "data": {
      "text/plain": [
       "array([15,  0,  1, 23, 21,  2,  3, 19, 22, 18,  4,  5,  6,  7, 10,  8, 11,\n",
       "        9, 12, 13, 14, 17, 16, 20], dtype=int64)"
      ]
     },
     "execution_count": 19,
     "metadata": {},
     "output_type": "execute_result"
    }
   ],
   "source": [
    "train['travel_hour'].unique()"
   ]
  },
  {
   "cell_type": "code",
   "execution_count": 20,
   "id": "controlled-daisy",
   "metadata": {},
   "outputs": [
    {
     "data": {
      "text/plain": [
       "pandas.core.series.Series"
      ]
     },
     "execution_count": 20,
     "metadata": {},
     "output_type": "execute_result"
    }
   ],
   "source": [
    "booking_by_day =  train.groupby('travel_weekday')['travel_weekday'].count()\n",
    "type(booking_by_day)"
   ]
  },
  {
   "cell_type": "code",
   "execution_count": 21,
   "id": "disciplinary-routine",
   "metadata": {},
   "outputs": [
    {
     "data": {
      "text/html": [
       "<div>\n",
       "<style scoped>\n",
       "    .dataframe tbody tr th:only-of-type {\n",
       "        vertical-align: middle;\n",
       "    }\n",
       "\n",
       "    .dataframe tbody tr th {\n",
       "        vertical-align: top;\n",
       "    }\n",
       "\n",
       "    .dataframe thead th {\n",
       "        text-align: right;\n",
       "    }\n",
       "</style>\n",
       "<table border=\"1\" class=\"dataframe\">\n",
       "  <thead>\n",
       "    <tr style=\"text-align: right;\">\n",
       "      <th></th>\n",
       "      <th>VendorID</th>\n",
       "      <th>RatecodeID</th>\n",
       "      <th>PULocationID</th>\n",
       "      <th>DOLocationID</th>\n",
       "      <th>passenger_count</th>\n",
       "      <th>trip_distance</th>\n",
       "      <th>total_amount</th>\n",
       "      <th>trip_type</th>\n",
       "      <th>lpep_pickup_datetime</th>\n",
       "      <th>lpep_dropoff_datetime</th>\n",
       "      <th>travel_time</th>\n",
       "      <th>travel_weekday</th>\n",
       "      <th>travel_hour</th>\n",
       "    </tr>\n",
       "  </thead>\n",
       "  <tbody>\n",
       "    <tr>\n",
       "      <th>0</th>\n",
       "      <td>2.0</td>\n",
       "      <td>1.0</td>\n",
       "      <td>264</td>\n",
       "      <td>264</td>\n",
       "      <td>5.0</td>\n",
       "      <td>0.00</td>\n",
       "      <td>4.81</td>\n",
       "      <td>1.0</td>\n",
       "      <td>2019-12-18 15:52:30</td>\n",
       "      <td>2019-12-18 15:54:39</td>\n",
       "      <td>2.15</td>\n",
       "      <td>2</td>\n",
       "      <td>15</td>\n",
       "    </tr>\n",
       "    <tr>\n",
       "      <th>1</th>\n",
       "      <td>2.0</td>\n",
       "      <td>5.0</td>\n",
       "      <td>66</td>\n",
       "      <td>65</td>\n",
       "      <td>2.0</td>\n",
       "      <td>1.28</td>\n",
       "      <td>24.36</td>\n",
       "      <td>2.0</td>\n",
       "      <td>2020-01-01 00:45:00</td>\n",
       "      <td>2020-01-01 00:56:00</td>\n",
       "      <td>11.00</td>\n",
       "      <td>2</td>\n",
       "      <td>0</td>\n",
       "    </tr>\n",
       "    <tr>\n",
       "      <th>2</th>\n",
       "      <td>2.0</td>\n",
       "      <td>1.0</td>\n",
       "      <td>181</td>\n",
       "      <td>228</td>\n",
       "      <td>1.0</td>\n",
       "      <td>2.47</td>\n",
       "      <td>15.34</td>\n",
       "      <td>1.0</td>\n",
       "      <td>2020-01-01 00:41:00</td>\n",
       "      <td>2020-01-01 00:52:00</td>\n",
       "      <td>11.00</td>\n",
       "      <td>2</td>\n",
       "      <td>0</td>\n",
       "    </tr>\n",
       "    <tr>\n",
       "      <th>3</th>\n",
       "      <td>1.0</td>\n",
       "      <td>1.0</td>\n",
       "      <td>129</td>\n",
       "      <td>263</td>\n",
       "      <td>2.0</td>\n",
       "      <td>6.30</td>\n",
       "      <td>25.05</td>\n",
       "      <td>1.0</td>\n",
       "      <td>2020-01-01 00:52:00</td>\n",
       "      <td>2020-01-01 01:14:00</td>\n",
       "      <td>22.00</td>\n",
       "      <td>2</td>\n",
       "      <td>1</td>\n",
       "    </tr>\n",
       "    <tr>\n",
       "      <th>4</th>\n",
       "      <td>1.0</td>\n",
       "      <td>1.0</td>\n",
       "      <td>210</td>\n",
       "      <td>150</td>\n",
       "      <td>1.0</td>\n",
       "      <td>2.30</td>\n",
       "      <td>11.30</td>\n",
       "      <td>1.0</td>\n",
       "      <td>2020-01-01 00:19:00</td>\n",
       "      <td>2020-01-01 00:30:00</td>\n",
       "      <td>11.00</td>\n",
       "      <td>2</td>\n",
       "      <td>0</td>\n",
       "    </tr>\n",
       "  </tbody>\n",
       "</table>\n",
       "</div>"
      ],
      "text/plain": [
       "   VendorID  RatecodeID  PULocationID  DOLocationID  passenger_count  \\\n",
       "0       2.0         1.0           264           264              5.0   \n",
       "1       2.0         5.0            66            65              2.0   \n",
       "2       2.0         1.0           181           228              1.0   \n",
       "3       1.0         1.0           129           263              2.0   \n",
       "4       1.0         1.0           210           150              1.0   \n",
       "\n",
       "   trip_distance  total_amount  trip_type lpep_pickup_datetime  \\\n",
       "0           0.00          4.81        1.0  2019-12-18 15:52:30   \n",
       "1           1.28         24.36        2.0  2020-01-01 00:45:00   \n",
       "2           2.47         15.34        1.0  2020-01-01 00:41:00   \n",
       "3           6.30         25.05        1.0  2020-01-01 00:52:00   \n",
       "4           2.30         11.30        1.0  2020-01-01 00:19:00   \n",
       "\n",
       "  lpep_dropoff_datetime  travel_time  travel_weekday  travel_hour  \n",
       "0   2019-12-18 15:54:39         2.15               2           15  \n",
       "1   2020-01-01 00:56:00        11.00               2            0  \n",
       "2   2020-01-01 00:52:00        11.00               2            0  \n",
       "3   2020-01-01 01:14:00        22.00               2            1  \n",
       "4   2020-01-01 00:30:00        11.00               2            0  "
      ]
     },
     "execution_count": 21,
     "metadata": {},
     "output_type": "execute_result"
    }
   ],
   "source": [
    "train.head()"
   ]
  },
  {
   "cell_type": "code",
   "execution_count": 22,
   "id": "constitutional-ethics",
   "metadata": {},
   "outputs": [
    {
     "data": {
      "text/html": [
       "<div>\n",
       "<style scoped>\n",
       "    .dataframe tbody tr th:only-of-type {\n",
       "        vertical-align: middle;\n",
       "    }\n",
       "\n",
       "    .dataframe tbody tr th {\n",
       "        vertical-align: top;\n",
       "    }\n",
       "\n",
       "    .dataframe thead th {\n",
       "        text-align: right;\n",
       "    }\n",
       "</style>\n",
       "<table border=\"1\" class=\"dataframe\">\n",
       "  <thead>\n",
       "    <tr style=\"text-align: right;\">\n",
       "      <th></th>\n",
       "      <th>VendorID</th>\n",
       "      <th>RatecodeID</th>\n",
       "      <th>PULocationID</th>\n",
       "      <th>DOLocationID</th>\n",
       "      <th>passenger_count</th>\n",
       "      <th>trip_distance</th>\n",
       "      <th>total_amount</th>\n",
       "      <th>trip_type</th>\n",
       "      <th>travel_time</th>\n",
       "      <th>travel_weekday</th>\n",
       "      <th>travel_hour</th>\n",
       "    </tr>\n",
       "  </thead>\n",
       "  <tbody>\n",
       "    <tr>\n",
       "      <th>0</th>\n",
       "      <td>2.0</td>\n",
       "      <td>1.0</td>\n",
       "      <td>264</td>\n",
       "      <td>264</td>\n",
       "      <td>5.0</td>\n",
       "      <td>0.00</td>\n",
       "      <td>4.81</td>\n",
       "      <td>1.0</td>\n",
       "      <td>2.15</td>\n",
       "      <td>2</td>\n",
       "      <td>15</td>\n",
       "    </tr>\n",
       "    <tr>\n",
       "      <th>1</th>\n",
       "      <td>2.0</td>\n",
       "      <td>5.0</td>\n",
       "      <td>66</td>\n",
       "      <td>65</td>\n",
       "      <td>2.0</td>\n",
       "      <td>1.28</td>\n",
       "      <td>24.36</td>\n",
       "      <td>2.0</td>\n",
       "      <td>11.00</td>\n",
       "      <td>2</td>\n",
       "      <td>0</td>\n",
       "    </tr>\n",
       "    <tr>\n",
       "      <th>2</th>\n",
       "      <td>2.0</td>\n",
       "      <td>1.0</td>\n",
       "      <td>181</td>\n",
       "      <td>228</td>\n",
       "      <td>1.0</td>\n",
       "      <td>2.47</td>\n",
       "      <td>15.34</td>\n",
       "      <td>1.0</td>\n",
       "      <td>11.00</td>\n",
       "      <td>2</td>\n",
       "      <td>0</td>\n",
       "    </tr>\n",
       "    <tr>\n",
       "      <th>3</th>\n",
       "      <td>1.0</td>\n",
       "      <td>1.0</td>\n",
       "      <td>129</td>\n",
       "      <td>263</td>\n",
       "      <td>2.0</td>\n",
       "      <td>6.30</td>\n",
       "      <td>25.05</td>\n",
       "      <td>1.0</td>\n",
       "      <td>22.00</td>\n",
       "      <td>2</td>\n",
       "      <td>1</td>\n",
       "    </tr>\n",
       "    <tr>\n",
       "      <th>4</th>\n",
       "      <td>1.0</td>\n",
       "      <td>1.0</td>\n",
       "      <td>210</td>\n",
       "      <td>150</td>\n",
       "      <td>1.0</td>\n",
       "      <td>2.30</td>\n",
       "      <td>11.30</td>\n",
       "      <td>1.0</td>\n",
       "      <td>11.00</td>\n",
       "      <td>2</td>\n",
       "      <td>0</td>\n",
       "    </tr>\n",
       "  </tbody>\n",
       "</table>\n",
       "</div>"
      ],
      "text/plain": [
       "   VendorID  RatecodeID  PULocationID  DOLocationID  passenger_count  \\\n",
       "0       2.0         1.0           264           264              5.0   \n",
       "1       2.0         5.0            66            65              2.0   \n",
       "2       2.0         1.0           181           228              1.0   \n",
       "3       1.0         1.0           129           263              2.0   \n",
       "4       1.0         1.0           210           150              1.0   \n",
       "\n",
       "   trip_distance  total_amount  trip_type  travel_time  travel_weekday  \\\n",
       "0           0.00          4.81        1.0         2.15               2   \n",
       "1           1.28         24.36        2.0        11.00               2   \n",
       "2           2.47         15.34        1.0        11.00               2   \n",
       "3           6.30         25.05        1.0        22.00               2   \n",
       "4           2.30         11.30        1.0        11.00               2   \n",
       "\n",
       "   travel_hour  \n",
       "0           15  \n",
       "1            0  \n",
       "2            0  \n",
       "3            1  \n",
       "4            0  "
      ]
     },
     "execution_count": 22,
     "metadata": {},
     "output_type": "execute_result"
    }
   ],
   "source": [
    "#Once we got current day & hour of the trip, we don't need pickup & dropoff times, so removing it\n",
    "train = train.drop(['lpep_pickup_datetime','lpep_dropoff_datetime'], axis = 1)\n",
    "train.head()"
   ]
  },
  {
   "cell_type": "markdown",
   "id": "backed-johnston",
   "metadata": {},
   "source": [
    "## labels and features"
   ]
  },
  {
   "cell_type": "code",
   "execution_count": 23,
   "id": "liked-contrast",
   "metadata": {},
   "outputs": [
    {
     "data": {
      "text/html": [
       "<div>\n",
       "<style scoped>\n",
       "    .dataframe tbody tr th:only-of-type {\n",
       "        vertical-align: middle;\n",
       "    }\n",
       "\n",
       "    .dataframe tbody tr th {\n",
       "        vertical-align: top;\n",
       "    }\n",
       "\n",
       "    .dataframe thead th {\n",
       "        text-align: right;\n",
       "    }\n",
       "</style>\n",
       "<table border=\"1\" class=\"dataframe\">\n",
       "  <thead>\n",
       "    <tr style=\"text-align: right;\">\n",
       "      <th></th>\n",
       "      <th>total_amount</th>\n",
       "    </tr>\n",
       "  </thead>\n",
       "  <tbody>\n",
       "    <tr>\n",
       "      <th>0</th>\n",
       "      <td>4.81</td>\n",
       "    </tr>\n",
       "    <tr>\n",
       "      <th>1</th>\n",
       "      <td>24.36</td>\n",
       "    </tr>\n",
       "    <tr>\n",
       "      <th>2</th>\n",
       "      <td>15.34</td>\n",
       "    </tr>\n",
       "    <tr>\n",
       "      <th>3</th>\n",
       "      <td>25.05</td>\n",
       "    </tr>\n",
       "    <tr>\n",
       "      <th>4</th>\n",
       "      <td>11.30</td>\n",
       "    </tr>\n",
       "  </tbody>\n",
       "</table>\n",
       "</div>"
      ],
      "text/plain": [
       "   total_amount\n",
       "0          4.81\n",
       "1         24.36\n",
       "2         15.34\n",
       "3         25.05\n",
       "4         11.30"
      ]
     },
     "execution_count": 23,
     "metadata": {},
     "output_type": "execute_result"
    }
   ],
   "source": [
    "y = train.iloc[0:,[6]]\n",
    "y.head()"
   ]
  },
  {
   "cell_type": "code",
   "execution_count": 24,
   "id": "tender-south",
   "metadata": {},
   "outputs": [
    {
     "data": {
      "text/html": [
       "<div>\n",
       "<style scoped>\n",
       "    .dataframe tbody tr th:only-of-type {\n",
       "        vertical-align: middle;\n",
       "    }\n",
       "\n",
       "    .dataframe tbody tr th {\n",
       "        vertical-align: top;\n",
       "    }\n",
       "\n",
       "    .dataframe thead th {\n",
       "        text-align: right;\n",
       "    }\n",
       "</style>\n",
       "<table border=\"1\" class=\"dataframe\">\n",
       "  <thead>\n",
       "    <tr style=\"text-align: right;\">\n",
       "      <th></th>\n",
       "      <th>VendorID</th>\n",
       "      <th>RatecodeID</th>\n",
       "      <th>PULocationID</th>\n",
       "      <th>DOLocationID</th>\n",
       "      <th>passenger_count</th>\n",
       "      <th>trip_distance</th>\n",
       "      <th>trip_type</th>\n",
       "      <th>travel_time</th>\n",
       "      <th>travel_weekday</th>\n",
       "      <th>travel_hour</th>\n",
       "    </tr>\n",
       "  </thead>\n",
       "  <tbody>\n",
       "    <tr>\n",
       "      <th>0</th>\n",
       "      <td>2.0</td>\n",
       "      <td>1.0</td>\n",
       "      <td>264</td>\n",
       "      <td>264</td>\n",
       "      <td>5.0</td>\n",
       "      <td>0.00</td>\n",
       "      <td>1.0</td>\n",
       "      <td>2.15</td>\n",
       "      <td>2</td>\n",
       "      <td>15</td>\n",
       "    </tr>\n",
       "    <tr>\n",
       "      <th>1</th>\n",
       "      <td>2.0</td>\n",
       "      <td>5.0</td>\n",
       "      <td>66</td>\n",
       "      <td>65</td>\n",
       "      <td>2.0</td>\n",
       "      <td>1.28</td>\n",
       "      <td>2.0</td>\n",
       "      <td>11.00</td>\n",
       "      <td>2</td>\n",
       "      <td>0</td>\n",
       "    </tr>\n",
       "    <tr>\n",
       "      <th>2</th>\n",
       "      <td>2.0</td>\n",
       "      <td>1.0</td>\n",
       "      <td>181</td>\n",
       "      <td>228</td>\n",
       "      <td>1.0</td>\n",
       "      <td>2.47</td>\n",
       "      <td>1.0</td>\n",
       "      <td>11.00</td>\n",
       "      <td>2</td>\n",
       "      <td>0</td>\n",
       "    </tr>\n",
       "    <tr>\n",
       "      <th>3</th>\n",
       "      <td>1.0</td>\n",
       "      <td>1.0</td>\n",
       "      <td>129</td>\n",
       "      <td>263</td>\n",
       "      <td>2.0</td>\n",
       "      <td>6.30</td>\n",
       "      <td>1.0</td>\n",
       "      <td>22.00</td>\n",
       "      <td>2</td>\n",
       "      <td>1</td>\n",
       "    </tr>\n",
       "    <tr>\n",
       "      <th>4</th>\n",
       "      <td>1.0</td>\n",
       "      <td>1.0</td>\n",
       "      <td>210</td>\n",
       "      <td>150</td>\n",
       "      <td>1.0</td>\n",
       "      <td>2.30</td>\n",
       "      <td>1.0</td>\n",
       "      <td>11.00</td>\n",
       "      <td>2</td>\n",
       "      <td>0</td>\n",
       "    </tr>\n",
       "  </tbody>\n",
       "</table>\n",
       "</div>"
      ],
      "text/plain": [
       "   VendorID  RatecodeID  PULocationID  DOLocationID  passenger_count  \\\n",
       "0       2.0         1.0           264           264              5.0   \n",
       "1       2.0         5.0            66            65              2.0   \n",
       "2       2.0         1.0           181           228              1.0   \n",
       "3       1.0         1.0           129           263              2.0   \n",
       "4       1.0         1.0           210           150              1.0   \n",
       "\n",
       "   trip_distance  trip_type  travel_time  travel_weekday  travel_hour  \n",
       "0           0.00        1.0         2.15               2           15  \n",
       "1           1.28        2.0        11.00               2            0  \n",
       "2           2.47        1.0        11.00               2            0  \n",
       "3           6.30        1.0        22.00               2            1  \n",
       "4           2.30        1.0        11.00               2            0  "
      ]
     },
     "execution_count": 24,
     "metadata": {},
     "output_type": "execute_result"
    }
   ],
   "source": [
    "x = train.iloc[0:,[0,1,2,3,4,5,7,8,9,10]]\n",
    "x.head()"
   ]
  },
  {
   "cell_type": "code",
   "execution_count": 25,
   "id": "happy-detector",
   "metadata": {},
   "outputs": [
    {
     "data": {
      "text/plain": [
       "VendorID           float64\n",
       "RatecodeID         float64\n",
       "PULocationID         int64\n",
       "DOLocationID         int64\n",
       "passenger_count    float64\n",
       "trip_distance      float64\n",
       "trip_type          float64\n",
       "travel_time        float64\n",
       "travel_weekday       int64\n",
       "travel_hour          int64\n",
       "dtype: object"
      ]
     },
     "execution_count": 25,
     "metadata": {},
     "output_type": "execute_result"
    }
   ],
   "source": [
    "x.dtypes"
   ]
  },
  {
   "cell_type": "code",
   "execution_count": 26,
   "id": "demonstrated-reality",
   "metadata": {},
   "outputs": [
    {
     "data": {
      "text/plain": [
       "total_amount    float64\n",
       "dtype: object"
      ]
     },
     "execution_count": 26,
     "metadata": {},
     "output_type": "execute_result"
    }
   ],
   "source": [
    "y.dtypes"
   ]
  },
  {
   "cell_type": "markdown",
   "id": "mineral-representation",
   "metadata": {},
   "source": [
    "## Visualization"
   ]
  },
  {
   "cell_type": "code",
   "execution_count": 52,
   "id": "differential-still",
   "metadata": {},
   "outputs": [
    {
     "data": {
      "image/png": "[encoded data removed]",
      "text/plain": [
       "<Figure size 864x432 with 1 Axes>"
      ]
     },
     "metadata": {
      "needs_background": "light"
     },
     "output_type": "display_data"
    }
   ],
   "source": [
    "plt.figure(figsize=(12,6))\n",
    "booking_by_day.plot()\n",
    "plt.title('WeekDay wise Travel Bookings')\n",
    "plt.xlabel('days',fontsize=18)\n",
    "plt.ylabel('Traveling distance',fontsize=18)\n",
    "plt.show()"
   ]
  },
  {
   "cell_type": "code",
   "execution_count": 36,
   "id": "crucial-hollow",
   "metadata": {},
   "outputs": [
    {
     "data": {
      "text/plain": [
       "Text(0.5, 1.0, ' Dist of passanger count ')"
      ]
     },
     "execution_count": 36,
     "metadata": {},
     "output_type": "execute_result"
    },
    {
     "data": {
      "image/png": "[encoded data removed]",
      "text/plain": [
       "<Figure size 864x432 with 1 Axes>"
      ]
     },
     "metadata": {
      "needs_background": "light"
     },
     "output_type": "display_data"
    }
   ],
   "source": [
    "plt.figure(figsize=(12,6))\n",
    "ax = sns.countplot(x=train['passenger_count'])\n",
    "plt.title(' Dist of passanger count ')"
   ]
  },
  {
   "cell_type": "code",
   "execution_count": 37,
   "id": "commercial-chapel",
   "metadata": {},
   "outputs": [
    {
     "data": {
      "image/png": "[encoded data removed]",
      "text/plain": [
       "<Figure size 864x432 with 1 Axes>"
      ]
     },
     "metadata": {
      "needs_background": "light"
     },
     "output_type": "display_data"
    }
   ],
   "source": [
    "plt.figure(figsize=(12,6))\n",
    "ax = sns.countplot(x=train['travel_hour'])\n",
    "plt.title(' Dist of total travel hour')\n",
    "\n",
    "for p in ax.patches:\n",
    "    height = p.get_height()\n",
    "    ax.text(x=p.get_x() + (p.get_width()/2),\n",
    "    y=height+0.2, ha='center', s='{:.0f}'.format(height))\n",
    "plt.show()"
   ]
  },
  {
   "cell_type": "code",
   "execution_count": 30,
   "id": "interested-carrier",
   "metadata": {},
   "outputs": [
    {
     "data": {
      "image/png": "[encoded data removed]",
      "text/plain": [
       "<Figure size 360x360 with 1 Axes>"
      ]
     },
     "metadata": {
      "needs_background": "light"
     },
     "output_type": "display_data"
    }
   ],
   "source": [
    "sns.displot(train[train['trip_distance']<50]['trip_distance'],kde=False);"
   ]
  },
  {
   "cell_type": "code",
   "execution_count": 31,
   "id": "dutch-spectrum",
   "metadata": {},
   "outputs": [],
   "source": [
    "#Plotting graph of fare vs distance"
   ]
  },
  {
   "cell_type": "code",
   "execution_count": 32,
   "id": "diverse-parliament",
   "metadata": {},
   "outputs": [],
   "source": [
    "a = x.iloc[0:200,5]\n",
    "b = y.iloc[0:200,0]"
   ]
  },
  {
   "cell_type": "code",
   "execution_count": 51,
   "id": "excellent-consortium",
   "metadata": {},
   "outputs": [
    {
     "data": {
      "image/png": "[encoded data removed]",
      "text/plain": [
       "<Figure size 864x432 with 1 Axes>"
      ]
     },
     "metadata": {
      "needs_background": "light"
     },
     "output_type": "display_data"
    }
   ],
   "source": [
    "plt.figure(figsize=(12,6))\n",
    "plt.scatter(b,a)\n",
    "plt.title('fare vs distance')\n",
    "plt.xlabel('fare',fontsize=18)\n",
    "plt.ylabel('distance',fontsize=18)\n",
    "plt.show()"
   ]
  },
  {
   "cell_type": "markdown",
   "id": "hourly-cowboy",
   "metadata": {},
   "source": [
    "## Splitting values for Training & Testing"
   ]
  },
  {
   "cell_type": "code",
   "execution_count": 34,
   "id": "restricted-honduras",
   "metadata": {},
   "outputs": [],
   "source": [
    "x_train,x_test,y_train,y_test=train_test_split(x,y,test_size=0.3)"
   ]
  },
  {
   "cell_type": "markdown",
   "id": "sublime-bidder",
   "metadata": {},
   "source": [
    "## Training using Linear Regression"
   ]
  },
  {
   "cell_type": "code",
   "execution_count": 35,
   "id": "found-worth",
   "metadata": {},
   "outputs": [
    {
     "name": "stdout",
     "output_type": "stream",
     "text": [
      "Linear Regression Score:  0.07357774616465473\n",
      "Mean Squared Err:  126.8142601522355\n"
     ]
    }
   ],
   "source": [
    "from sklearn.linear_model import LinearRegression\n",
    "lr=LinearRegression(normalize=True)\n",
    "lr.fit(x_train,y_train)\n",
    "y_predicted = lr.predict(x_test)\n",
    "print(\"Linear Regression Score: \", lr.score(x_test,y_test))\n",
    "err = mean_squared_error(y_test,y_predicted)\n",
    "print('Mean Squared Err: ', err)"
   ]
  },
  {
   "cell_type": "markdown",
   "id": "thirty-perry",
   "metadata": {},
   "source": [
    "## Training using Polynomial Regression"
   ]
  },
  {
   "cell_type": "code",
   "execution_count": 49,
   "id": "independent-welsh",
   "metadata": {},
   "outputs": [],
   "source": [
    "from sklearn.preprocessing import PolynomialFeatures\n",
    "poly_features = PolynomialFeatures(2)\n",
    "X_train_poly = poly_features.fit_transform(x_train)\n",
    "poly_model = LinearRegression()\n",
    "poly_model.fit(X_train_poly, y_train)\n",
    "y_train_predicted = poly_model.predict(X_train_poly)"
   ]
  },
  {
   "cell_type": "code",
   "execution_count": 50,
   "id": "official-mining",
   "metadata": {},
   "outputs": [],
   "source": [
    "from sklearn.metrics import mean_squared_error, r2_score\n",
    "y_test_predict = poly_model.predict(poly_features.fit_transform(x_test))\n",
    "rmse_train = np.sqrt(mean_squared_error(y_train, y_train_predicted))\n",
    "r2_train = r2_score(y_train, y_train_predicted)"
   ]
  },
  {
   "cell_type": "code",
   "execution_count": 51,
   "id": "alone-conjunction",
   "metadata": {},
   "outputs": [],
   "source": [
    "rmse_test = np.sqrt(mean_squared_error(y_test, y_test_predict))\n",
    "r2_test = r2_score(y_test, y_test_predict)"
   ]
  },
  {
   "cell_type": "code",
   "execution_count": 52,
   "id": "mexican-frame",
   "metadata": {},
   "outputs": [
    {
     "name": "stdout",
     "output_type": "stream",
     "text": [
      "The Polynomial model performance for the training set\n",
      "-------------------------------------------\n",
      "RMSE of training set is 5.431563990582172\n",
      "R2 score of training set is 0.7847523177835105\n",
      "\n",
      "\n",
      "The Polynomial model performance for the test set\n",
      "-------------------------------------------\n",
      "RMSE of test set is 198.7856964871646\n",
      "R2 score of test set is -287.6763131432656\n"
     ]
    }
   ],
   "source": [
    "print(\"The Polynomial model performance for the training set\")\n",
    "print(\"-------------------------------------------\")\n",
    "print(\"RMSE of training set is {}\".format(rmse_train))\n",
    "print(\"R2 score of training set is {}\".format(r2_train))  \n",
    "print(\"\\n\")\n",
    "\n",
    "print(\"The Polynomial model performance for the test set\")\n",
    "print(\"-------------------------------------------\")\n",
    "print(\"RMSE of test set is {}\".format(rmse_test))\n",
    "print(\"R2 score of test set is {}\".format(r2_test))"
   ]
  },
  {
   "cell_type": "markdown",
   "id": "personalized-webcam",
   "metadata": {},
   "source": [
    "## Training using Random Forest Regressor"
   ]
  },
  {
   "cell_type": "code",
   "execution_count": 40,
   "id": "standing-format",
   "metadata": {},
   "outputs": [],
   "source": [
    "from sklearn.ensemble import RandomForestRegressor\n",
    "model = RandomForestRegressor(max_depth=30, n_estimators=100, n_jobs=-1)\n",
    "\n",
    "model.fit(x_train, y_train.values.ravel())\n",
    "\n",
    "y_valid_pred = model.predict(x_test)\n"
   ]
  },
  {
   "cell_type": "code",
   "execution_count": 41,
   "id": "boring-sierra",
   "metadata": {},
   "outputs": [
    {
     "name": "stdout",
     "output_type": "stream",
     "text": [
      "Random Forest Regressor Score:  0.07357774616465473\n",
      "Random Forest Regressor RMSE:  4.369182593272292\n"
     ]
    }
   ],
   "source": [
    "print(\"Random Forest Regressor Score: \", lr.score(x_test,y_test))\n",
    "rmse_test = np.sqrt(mean_squared_error(y_test, y_valid_pred))\n",
    "print(\"Random Forest Regressor RMSE: \" , rmse_test)"
   ]
  },
  {
   "cell_type": "code",
   "execution_count": 49,
   "id": "2d0ade6a",
   "metadata": {},
   "outputs": [],
   "source": [
    "x=['lr','poly_features','RandomForestRegressor']\n",
    "y=[ 0.0735,0.7847,0.0735]"
   ]
  },
  {
   "cell_type": "code",
   "execution_count": 50,
   "id": "8d0e20d7",
   "metadata": {},
   "outputs": [
    {
     "data": {
      "image/png": "[encoded data removed]",
      "text/plain": [
       "<Figure size 432x288 with 1 Axes>"
      ]
     },
     "metadata": {
      "needs_background": "light"
     },
     "output_type": "display_data"
    }
   ],
   "source": [
    "plt.bar(x,y,color=['green','blue','black'])\n",
    "plt.xlabel('models')\n",
    "plt.ylabel('Accuracies')\n",
    "plt.title('model accuracy plot')\n",
    "plt.show()"
   ]
  },
  {
   "cell_type": "code",
   "execution_count": null,
   "id": "1b85661f",
   "metadata": {},
   "outputs": [],
   "source": []
  }
 ],
 "metadata": {
  "kernelspec": {
   "display_name": "Python 3",
   "language": "python",
   "name": "python3"
  },
  "language_info": {
   "codemirror_mode": {
    "name": "ipython",
    "version": 3
   },
   "file_extension": ".py",
   "mimetype": "text/x-python",
   "name": "python",
   "nbconvert_exporter": "python",
   "pygments_lexer": "ipython3",
   "version": "3.8.8"
  }
 },
 "nbformat": 4,
 "nbformat_minor": 5
}
